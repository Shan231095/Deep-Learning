{
 "cells": [
  {
   "cell_type": "code",
   "execution_count": 1,
   "id": "bab5e0a1-4b7c-4494-b25f-756942ae1d41",
   "metadata": {},
   "outputs": [],
   "source": [
    "# import the necessary packages\n",
    "from tensorflow.keras.preprocessing.image import ImageDataGenerator\n",
    "from tensorflow.keras.applications import MobileNetV2\n",
    "from tensorflow.keras.layers import AveragePooling2D\n",
    "from tensorflow.keras.layers import Dropout\n",
    "from tensorflow.keras.layers import Flatten\n",
    "from tensorflow.keras.layers import Dense\n",
    "from tensorflow.keras.layers import Input\n",
    "from tensorflow.keras.models import Model\n",
    "from tensorflow.keras.optimizers import Adam\n",
    "from tensorflow.keras.applications.mobilenet_v2 import preprocess_input\n",
    "from tensorflow.keras.preprocessing.image import img_to_array\n",
    "from tensorflow.keras.preprocessing.image import load_img\n",
    "from tensorflow.keras.utils import to_categorical\n",
    "from sklearn.preprocessing import LabelBinarizer\n",
    "from sklearn.model_selection import train_test_split\n",
    "from sklearn.metrics import classification_report\n",
    "from imutils import paths\n",
    "import matplotlib.pyplot as plt\n",
    "import numpy as np\n",
    "import os"
   ]
  },
  {
   "cell_type": "code",
   "execution_count": 7,
   "id": "8c290f68-63fd-4b34-bdab-0409cac12d36",
   "metadata": {},
   "outputs": [],
   "source": [
    "# initialize the initial learning rate, number of epochs to train for,\n",
    "# and batch size\n",
    "INIT_LR = 1e-4\n",
    "EPOCHS = 20\n",
    "BS = 32\n",
    "\n",
    "DIRECTORY = r\"E:\\Shanmathi\\Hope AI course Tamil\\Deep Learning\\AI_DeepLearning_FaceDetection-main\\dataset\"\n",
    "CATEGORIES = [\"with_mask\", \"without_mask\"]"
   ]
  },
  {
   "cell_type": "code",
   "execution_count": 8,
   "id": "82f3d517-7c78-4308-adfd-a68f01948c97",
   "metadata": {},
   "outputs": [
    {
     "name": "stdout",
     "output_type": "stream",
     "text": [
      "[INFO] loading images...\n"
     ]
    },
    {
     "name": "stderr",
     "output_type": "stream",
     "text": [
      "C:\\Anaconda3\\envs\\aidl\\lib\\site-packages\\PIL\\Image.py:992: UserWarning: Palette images with Transparency expressed in bytes should be converted to RGBA images\n",
      "  warnings.warn(\n"
     ]
    }
   ],
   "source": [
    "# grab the list of images in our dataset directory, then initialize\n",
    "# the list of data (i.e., images) and class images\n",
    "print(\"[INFO] loading images...\")\n",
    "\n",
    "data = []\n",
    "labels = []\n",
    "\n",
    "for category in CATEGORIES:\n",
    "    path = os.path.join(DIRECTORY, category)\n",
    "    for img in os.listdir(path):\n",
    "    \timg_path = os.path.join(path, img)\n",
    "    \timage = load_img(img_path, target_size=(224, 224))\n",
    "    \timage = img_to_array(image)\n",
    "    \timage = preprocess_input(image)\n",
    "\n",
    "    \tdata.append(image)\n",
    "    \tlabels.append(category)"
   ]
  },
  {
   "cell_type": "code",
   "execution_count": 9,
   "id": "11a2918f-4268-4a90-b7cb-a333f4d97af4",
   "metadata": {},
   "outputs": [],
   "source": [
    "# perform one-hot encoding on the labels\n",
    "lb = LabelBinarizer()\n",
    "labels = lb.fit_transform(labels)\n",
    "labels = to_categorical(labels)\n",
    "\n",
    "data = np.array(data, dtype=\"float32\")\n",
    "labels = np.array(labels)\n",
    "\n",
    "(trainX, testX, trainY, testY) = train_test_split(data, labels,\n",
    "\ttest_size=0.20, stratify=labels, random_state=42)"
   ]
  },
  {
   "cell_type": "code",
   "execution_count": 10,
   "id": "3a53b1cd-477a-4681-a8de-c7d1f33a2847",
   "metadata": {},
   "outputs": [],
   "source": [
    "# construct the training image generator for data augmentation\n",
    "aug = ImageDataGenerator(\n",
    "\trotation_range=20,\n",
    "\tzoom_range=0.15,\n",
    "\twidth_shift_range=0.2,\n",
    "\theight_shift_range=0.2,\n",
    "\tshear_range=0.15,\n",
    "\thorizontal_flip=True,\n",
    "\tfill_mode=\"nearest\")"
   ]
  },
  {
   "cell_type": "code",
   "execution_count": 12,
   "id": "451ba4a0-4dcb-4a36-afd5-fc5c18c021da",
   "metadata": {},
   "outputs": [
    {
     "name": "stdout",
     "output_type": "stream",
     "text": [
      "WARNING:tensorflow:`input_shape` is undefined or non-square, or `rows` is not in [96, 128, 160, 192, 224]. Weights for input shape (224, 224) will be loaded as the default.\n",
      "Downloading data from https://storage.googleapis.com/tensorflow/keras-applications/mobilenet_v2/mobilenet_v2_weights_tf_dim_ordering_tf_kernels_1.0_224_no_top.h5\n",
      "9406464/9406464 [==============================] - 38s 4us/step\n"
     ]
    }
   ],
   "source": [
    "# load the MobileNetV2 network, ensuring the head FC layer sets are\n",
    "# left off\n",
    "baseModel = MobileNetV2(weights=\"imagenet\", include_top=False,\n",
    "\tinput_tensor=Input(shape=(224, 224, 3)))"
   ]
  },
  {
   "cell_type": "code",
   "execution_count": 13,
   "id": "7b1ce3db-ec7a-4e60-8d30-22c455fcbee6",
   "metadata": {},
   "outputs": [],
   "source": [
    "# construct the head of the model that will be placed on top of the\n",
    "# the base model\n",
    "headModel = baseModel.output\n",
    "headModel = AveragePooling2D(pool_size=(7, 7))(headModel)\n",
    "headModel = Flatten(name=\"flatten\")(headModel)\n",
    "headModel = Dense(128, activation=\"relu\")(headModel)\n",
    "headModel = Dropout(0.5)(headModel)\n",
    "headModel = Dense(2, activation=\"softmax\")(headModel)"
   ]
  },
  {
   "cell_type": "code",
   "execution_count": 14,
   "id": "1acdec8e-ffce-4eec-a871-4390a8754e12",
   "metadata": {},
   "outputs": [],
   "source": [
    "# place the head FC model on top of the base model (this will become\n",
    "# the actual model we will train)\n",
    "model = Model(inputs=baseModel.input, outputs=headModel)"
   ]
  },
  {
   "cell_type": "code",
   "execution_count": 15,
   "id": "5ff88dcc-5de7-443d-8b39-3f0981557099",
   "metadata": {},
   "outputs": [],
   "source": [
    "# loop over all layers in the base model and freeze them so they will\n",
    "# *not* be updated during the first training process\n",
    "for layer in baseModel.layers:\n",
    "\tlayer.trainable = False"
   ]
  },
  {
   "cell_type": "code",
   "execution_count": 17,
   "id": "b9b53ebd-c859-4679-b2b1-d0e3dd86f74d",
   "metadata": {},
   "outputs": [
    {
     "name": "stdout",
     "output_type": "stream",
     "text": [
      "[INFO] compiling model...\n"
     ]
    },
    {
     "name": "stderr",
     "output_type": "stream",
     "text": [
      "C:\\Anaconda3\\envs\\aidl\\lib\\site-packages\\keras\\optimizers\\legacy\\adam.py:117: UserWarning: The `lr` argument is deprecated, use `learning_rate` instead.\n",
      "  super().__init__(name, **kwargs)\n"
     ]
    }
   ],
   "source": [
    "# compile our model\n",
    "from tensorflow.keras.optimizers.legacy import Adam \n",
    "print(\"[INFO] compiling model...\")\n",
    "opt = Adam(lr=INIT_LR, decay=INIT_LR / EPOCHS)\n",
    "model.compile(loss=\"binary_crossentropy\", optimizer=opt,\n",
    "\tmetrics=[\"accuracy\"])"
   ]
  },
  {
   "cell_type": "code",
   "execution_count": 18,
   "id": "3dc79f5c-1a81-4138-961d-971069fd2e20",
   "metadata": {},
   "outputs": [
    {
     "name": "stdout",
     "output_type": "stream",
     "text": [
      "[INFO] training head...\n",
      "Epoch 1/20\n",
      "96/96 [==============================] - 104s 1s/step - loss: 0.4213 - accuracy: 0.8348 - val_loss: 0.1590 - val_accuracy: 0.9831\n",
      "Epoch 2/20\n",
      "96/96 [==============================] - 96s 996ms/step - loss: 0.1430 - accuracy: 0.9645 - val_loss: 0.0844 - val_accuracy: 0.9896\n",
      "Epoch 3/20\n",
      "96/96 [==============================] - 93s 973ms/step - loss: 0.1023 - accuracy: 0.9711 - val_loss: 0.0643 - val_accuracy: 0.9935\n",
      "Epoch 4/20\n",
      "96/96 [==============================] - 92s 963ms/step - loss: 0.0867 - accuracy: 0.9757 - val_loss: 0.0533 - val_accuracy: 0.9922\n",
      "Epoch 5/20\n",
      "96/96 [==============================] - 93s 966ms/step - loss: 0.0739 - accuracy: 0.9770 - val_loss: 0.0494 - val_accuracy: 0.9922\n",
      "Epoch 6/20\n",
      "96/96 [==============================] - 93s 972ms/step - loss: 0.0715 - accuracy: 0.9747 - val_loss: 0.0512 - val_accuracy: 0.9922\n",
      "Epoch 7/20\n",
      "96/96 [==============================] - 92s 959ms/step - loss: 0.0609 - accuracy: 0.9796 - val_loss: 0.0438 - val_accuracy: 0.9935\n",
      "Epoch 8/20\n",
      "96/96 [==============================] - 94s 978ms/step - loss: 0.0512 - accuracy: 0.9816 - val_loss: 0.0415 - val_accuracy: 0.9935\n",
      "Epoch 9/20\n",
      "96/96 [==============================] - 98s 1s/step - loss: 0.0438 - accuracy: 0.9875 - val_loss: 0.0415 - val_accuracy: 0.9909\n",
      "Epoch 10/20\n",
      "96/96 [==============================] - 104s 1s/step - loss: 0.0439 - accuracy: 0.9865 - val_loss: 0.0381 - val_accuracy: 0.9922\n",
      "Epoch 11/20\n",
      "96/96 [==============================] - 100s 1s/step - loss: 0.0485 - accuracy: 0.9839 - val_loss: 0.0385 - val_accuracy: 0.9922\n",
      "Epoch 12/20\n",
      "96/96 [==============================] - 97s 1s/step - loss: 0.0418 - accuracy: 0.9875 - val_loss: 0.0375 - val_accuracy: 0.9922\n",
      "Epoch 13/20\n",
      "96/96 [==============================] - 93s 966ms/step - loss: 0.0383 - accuracy: 0.9892 - val_loss: 0.0379 - val_accuracy: 0.9935\n",
      "Epoch 14/20\n",
      "96/96 [==============================] - 93s 967ms/step - loss: 0.0385 - accuracy: 0.9875 - val_loss: 0.0353 - val_accuracy: 0.9935\n",
      "Epoch 15/20\n",
      "96/96 [==============================] - 100s 1s/step - loss: 0.0328 - accuracy: 0.9908 - val_loss: 0.0344 - val_accuracy: 0.9922\n",
      "Epoch 16/20\n",
      "96/96 [==============================] - 118s 1s/step - loss: 0.0291 - accuracy: 0.9911 - val_loss: 0.0338 - val_accuracy: 0.9935\n",
      "Epoch 17/20\n",
      "96/96 [==============================] - 101s 1s/step - loss: 0.0331 - accuracy: 0.9892 - val_loss: 0.0320 - val_accuracy: 0.9935\n",
      "Epoch 18/20\n",
      "96/96 [==============================] - 99s 1s/step - loss: 0.0277 - accuracy: 0.9918 - val_loss: 0.0333 - val_accuracy: 0.9922\n",
      "Epoch 19/20\n",
      "96/96 [==============================] - 97s 1s/step - loss: 0.0354 - accuracy: 0.9885 - val_loss: 0.0342 - val_accuracy: 0.9935\n",
      "Epoch 20/20\n",
      "96/96 [==============================] - 97s 1s/step - loss: 0.0299 - accuracy: 0.9915 - val_loss: 0.0318 - val_accuracy: 0.9935\n"
     ]
    }
   ],
   "source": [
    "# train the head of the network\n",
    "print(\"[INFO] training head...\")\n",
    "H = model.fit(\n",
    "\taug.flow(trainX, trainY, batch_size=BS),\n",
    "\tsteps_per_epoch=len(trainX) // BS,\n",
    "\tvalidation_data=(testX, testY),\n",
    "\tvalidation_steps=len(testX) // BS,\n",
    "\tepochs=EPOCHS)\n"
   ]
  },
  {
   "cell_type": "code",
   "execution_count": 19,
   "id": "519ac9c5-e57d-4a32-9b6d-0b4afc05086d",
   "metadata": {},
   "outputs": [
    {
     "name": "stdout",
     "output_type": "stream",
     "text": [
      "[INFO] evaluating network...\n",
      "25/25 [==============================] - 30s 791ms/step\n"
     ]
    }
   ],
   "source": [
    "# make predictions on the testing set\n",
    "print(\"[INFO] evaluating network...\")\n",
    "predIdxs = model.predict(testX, batch_size=BS)\n"
   ]
  },
  {
   "cell_type": "code",
   "execution_count": 20,
   "id": "0723d402-ca07-4b30-ac22-ff27bd3ef877",
   "metadata": {},
   "outputs": [
    {
     "name": "stdout",
     "output_type": "stream",
     "text": [
      "              precision    recall  f1-score   support\n",
      "\n",
      "   with_mask       0.99      1.00      0.99       384\n",
      "without_mask       1.00      0.99      0.99       386\n",
      "\n",
      "    accuracy                           0.99       770\n",
      "   macro avg       0.99      0.99      0.99       770\n",
      "weighted avg       0.99      0.99      0.99       770\n",
      "\n"
     ]
    }
   ],
   "source": [
    "# for each image in the testing set we need to find the index of the\n",
    "# label with corresponding largest predicted probability\n",
    "predIdxs = np.argmax(predIdxs, axis=1)\n",
    "\n",
    "# show a nicely formatted classification report\n",
    "print(classification_report(testY.argmax(axis=1), predIdxs,\n",
    "\ttarget_names=lb.classes_))\n"
   ]
  },
  {
   "cell_type": "code",
   "execution_count": 21,
   "id": "cd30c753-92ee-4f9c-989e-bdc1fc482246",
   "metadata": {},
   "outputs": [
    {
     "name": "stdout",
     "output_type": "stream",
     "text": [
      "[INFO] saving mask detector model...\n"
     ]
    }
   ],
   "source": [
    "# serialize the model to disk\n",
    "print(\"[INFO] saving mask detector model...\")\n",
    "model.save(\"mask_detector.model\", save_format=\"h5\")"
   ]
  },
  {
   "cell_type": "code",
   "execution_count": 22,
   "id": "ea8010fa-0969-4b8d-a083-4b358d5a81cd",
   "metadata": {},
   "outputs": [
    {
     "data": {
      "image/png": "[encoded data removed]",
      "text/plain": [
       "<Figure size 640x480 with 1 Axes>"
      ]
     },
     "metadata": {},
     "output_type": "display_data"
    }
   ],
   "source": [
    "# plot the training loss and accuracy\n",
    "N = EPOCHS\n",
    "plt.style.use(\"ggplot\")\n",
    "plt.figure()\n",
    "plt.plot(np.arange(0, N), H.history[\"loss\"], label=\"train_loss\")\n",
    "plt.plot(np.arange(0, N), H.history[\"val_loss\"], label=\"val_loss\")\n",
    "plt.plot(np.arange(0, N), H.history[\"accuracy\"], label=\"train_acc\")\n",
    "plt.plot(np.arange(0, N), H.history[\"val_accuracy\"], label=\"val_acc\")\n",
    "plt.title(\"Training Loss and Accuracy\")\n",
    "plt.xlabel(\"Epoch #\")\n",
    "plt.ylabel(\"Loss/Accuracy\")\n",
    "plt.legend(loc=\"lower left\")\n",
    "plt.savefig(\"plot.png\")"
   ]
  },
  {
   "cell_type": "code",
   "execution_count": null,
   "id": "2e479fc1-a07e-444f-84a4-445e3743bc96",
   "metadata": {},
   "outputs": [],
   "source": []
  }
 ],
 "metadata": {
  "kernelspec": {
   "display_name": "aidl",
   "language": "python",
   "name": "aidl"
  },
  "language_info": {
   "codemirror_mode": {
    "name": "ipython",
    "version": 3
   },
   "file_extension": ".py",
   "mimetype": "text/x-python",
   "name": "python",
   "nbconvert_exporter": "python",
   "pygments_lexer": "ipython3",
   "version": "3.9.21"
  }
 },
 "nbformat": 4,
 "nbformat_minor": 5
}
